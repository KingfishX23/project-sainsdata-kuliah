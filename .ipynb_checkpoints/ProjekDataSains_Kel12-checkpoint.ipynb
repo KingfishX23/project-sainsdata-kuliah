{
 "cells": [
  {
   "cell_type": "code",
   "execution_count": 1,
   "metadata": {},
   "outputs": [
    {
     "name": "stdout",
     "output_type": "stream",
     "text": [
      "retweets_count avg = 2.592136261474722\n",
      "retweets_count median = 0.0\n",
      "retweets_count mode = 0    0\n",
      "dtype: int64\n",
      "\n",
      "\n",
      "\n",
      "likes_count avg = 7.686100354734761\n",
      "likes_count median = 0.0\n",
      "likes_count mode = 0    0\n",
      "dtype: int64\n",
      "\n",
      "\n",
      "\n"
     ]
    }
   ],
   "source": [
    "import pandas as pd\n",
    "import numpy as np\n",
    "#HALO JEMS AKU FELI\n",
    "#halo brooo ini epin\n",
    "#* open file csv\n",
    "dataFrameTwitter = pd.read_csv('TRANSLATED-covid-sentiment.csv')\n",
    "\n",
    "#* ilangin kolom2 berikut\n",
    "columns = ['mentions', 'replies_count', 'conversation_id', 'user_id', 'hashtags']\n",
    "dataFrameTwitter.drop(columns, inplace=True, axis=1)\n",
    "\n",
    "\n",
    "\n",
    "\n",
    "\"\"\"\n",
    "#* Convert date and time column to unix timestamp\n",
    "# This Process converts, and then delete the old date and time columns\n",
    "# in exchange for a new column (timestamps)\n",
    "\"\"\"\n",
    "\n",
    "# Declare variable timeStamps untuk ngegabungin dua kolom tersebut\n",
    "# \"2020-05-07 23:58:29\"\n",
    "timeStamps = dataFrameTwitter['date'] + \" \" + dataFrameTwitter['time']\n",
    "\n",
    "# Convert String menjadi bentuknya integer!\n",
    "timeStamps = pd.to_datetime(timeStamps)\n",
    "\n",
    "# Set data yang udah ada ke kolom timestamps, sekaligus diubah formnya\n",
    "#dataFrameTwitter['timestamps'] = timeStamps.values.astype(np.int64) // (10 ** 8)\n",
    "\n",
    "# Delete the old values\n",
    "#columns = ['date', 'time']\n",
    "#dataFrameTwitter.drop(columns, inplace=True, axis=1)\n",
    "\n",
    "\n",
    "\n",
    "\"\"\"\n",
    "#* Print the mean, median, mode of retweets_count and likes_count\n",
    "\"\"\"\n",
    "print('retweets_count avg =', dataFrameTwitter[\"retweets_count\"].mean())\n",
    "print('retweets_count median =', dataFrameTwitter[\"retweets_count\"].median())\n",
    "print('retweets_count mode =', dataFrameTwitter[\"retweets_count\"].mode())\n",
    "print('\\n\\n') #ini spasi\n",
    "print('likes_count avg =', dataFrameTwitter[\"likes_count\"].mean())\n",
    "print('likes_count median =', dataFrameTwitter[\"likes_count\"].median())\n",
    "print('likes_count mode =', dataFrameTwitter[\"likes_count\"].mode())\n",
    "print('\\n\\n') #ini spasi\n"
   ]
  },
  {
   "cell_type": "code",
   "execution_count": 2,
   "metadata": {},
   "outputs": [
    {
     "data": {
      "image/png": "[encoded data removed]",
      "text/plain": [
       "<Figure size 432x288 with 1 Axes>"
      ]
     },
     "metadata": {
      "needs_background": "light"
     },
     "output_type": "display_data"
    }
   ],
   "source": [
    "import matplotlib.pyplot as plt\n",
    "import seaborn as sns \n",
    "\n",
    "\"\"\"\n",
    "#* Mencoba COUNTIF dan COUNTIFS di kolom likes_count yang nilainya diantara 0 - 5\n",
    "# Setara dengan di excel: COUNTIFS(XX:YY, kondisi1, kondisi2, ..., kondisi_n) !!\n",
    "\"\"\"\n",
    "\n",
    "#Tarik data apabila kondisinya data sama dengan 0\n",
    "#Jumlahin semua yang memenuhi kondisi tersebut\n",
    "\n",
    "condition1 = (dataFrameTwitter[\"retweets_count\"] == 0) \n",
    "total1 = np.sum(condition1) \n",
    "\n",
    "condition2 = (dataFrameTwitter[\"retweets_count\"] == 1)\n",
    "total2 = np.sum(condition2)\n",
    "\n",
    "condition3 = (dataFrameTwitter[\"retweets_count\"] == 2)\n",
    "total3 = np.sum(condition3)\n",
    "\n",
    "condition4 = (dataFrameTwitter[\"retweets_count\"] == 3)\n",
    "total4 = np.sum(condition4)\n",
    "\n",
    "condition5 = (dataFrameTwitter[\"retweets_count\"] >=4) & (dataFrameTwitter[\"retweets_count\"] <=10)\n",
    "total5 = np.sum(condition5)\n",
    "\n",
    "plotDf = pd.DataFrame(\n",
    "    [[\"0\",total1],[\"1\",total2],[\"2\",total3],[\"3\",total4],[\"4\",total5]], #kolom\n",
    "    columns=[\"number\",\"counts\"] #judul kolom\n",
    ")\n",
    "\n",
    "ax = sns.lineplot(x=\"number\", y=\"counts\", data=plotDf) #sns adalah seaborn, komponen buat tunjukin graf di python!"
   ]
  },
  {
   "cell_type": "code",
   "execution_count": 3,
   "metadata": {},
   "outputs": [
    {
     "name": "stdout",
     "output_type": "stream",
     "text": [
      "             date      time       username  \\\n",
      "0      2020-05-07  23:58:29   monologis_id   \n",
      "1      2020-05-07  23:57:30        its_dul   \n",
      "2      2020-05-07  23:53:20     meonkbaong   \n",
      "3      2020-05-07  23:52:04  rakyatdotnews   \n",
      "4      2020-05-07  23:48:48  annisathalib_   \n",
      "...           ...       ...            ...   \n",
      "36924  2020-07-20  01:55:46       btrxangl   \n",
      "36925  2020-07-20  01:32:09  monitordaycom   \n",
      "36926  2020-07-20  01:30:51   gemaadityaer   \n",
      "36927  2020-07-20  01:28:46      beritasel   \n",
      "36928  2020-07-20  01:24:42      intandwbp   \n",
      "\n",
      "                                                   tweet  retweets_count  \\\n",
      "0      pemerintah lampung bantuan mahasiswa derasnya ...               3   \n",
      "1      pemerintah menerapkan herd immunity kemampuan ...               0   \n",
      "2      lakukan makanan berbuka sahur 10 kepala keluar...               0   \n",
      "3      warga positif corona bupati kondisi menuntut k...               0   \n",
      "4      emosi banget kondisi disuruh liputan covid dos...               0   \n",
      "...                                                  ...             ...   \n",
      "36924  hoaks hoaks beredar covid pemerintah mengendal...               0   \n",
      "36925  tingginya covid 19 majelis permusyawaratan rak...               2   \n",
      "36926  pakai masker cuci hand sanitizer namanya idiot...               0   \n",
      "36927  kabupaten aceh selatan zona hijau terlibat pem...               0   \n",
      "36928  keluyurann rumah pekerjaan beli sembako jalan ...               5   \n",
      "\n",
      "       likes_count                                         translated  \\\n",
      "0                0  the lampung government aid the swift student d...   \n",
      "1                0  the government implements herd immunity, the c...   \n",
      "2                0  do break fasting meals 10 families affected by...   \n",
      "3                0  positive citizen corona regent conditions dema...   \n",
      "4                0  very emotional, conditions were told to cover ...   \n",
      "...            ...                                                ...   \n",
      "36924            0  hoaks hoaks circulating covid the government c...   \n",
      "36925            2  the high covid of 19 assemblies of the people ...   \n",
      "36926            0  wearing hand sanitizer wash mask, the name of ...   \n",
      "36927            3  south aceh regency green zone involved communi...   \n",
      "36928           28  wandering around the house of work buying groc...   \n",
      "\n",
      "       datehour  \n",
      "0            23  \n",
      "1            23  \n",
      "2            23  \n",
      "3            23  \n",
      "4            23  \n",
      "...         ...  \n",
      "36924         1  \n",
      "36925         1  \n",
      "36926         1  \n",
      "36927         1  \n",
      "36928         1  \n",
      "\n",
      "[36929 rows x 8 columns]\n"
     ]
    },
    {
     "data": {
      "image/png": "[encoded data removed]",
      "text/plain": [
       "<Figure size 432x288 with 1 Axes>"
      ]
     },
     "metadata": {
      "needs_background": "light"
     },
     "output_type": "display_data"
    }
   ],
   "source": [
    "import seaborn as sns \n",
    "\n",
    "dataFrameTwitter['datehour'] = timeStamps.dt.hour\n",
    "\n",
    "dataFrameTwitter.boxplot(by ='datehour', column =['retweets_count'], grid = False) \n",
    "print (dataFrameTwitter)\n"
   ]
  },
  {
   "cell_type": "code",
   "execution_count": null,
   "metadata": {},
   "outputs": [],
   "source": []
  },
  {
   "cell_type": "code",
   "execution_count": null,
   "metadata": {},
   "outputs": [],
   "source": []
  },
  {
   "cell_type": "code",
   "execution_count": null,
   "metadata": {},
   "outputs": [],
   "source": []
  },
  {
   "cell_type": "code",
   "execution_count": null,
   "metadata": {},
   "outputs": [],
   "source": []
  }
 ],
 "metadata": {
  "kernelspec": {
   "display_name": "Python 3",
   "language": "python",
   "name": "python3"
  },
  "language_info": {
   "codemirror_mode": {
    "name": "ipython",
    "version": 3
   },
   "file_extension": ".py",
   "mimetype": "text/x-python",
   "name": "python",
   "nbconvert_exporter": "python",
   "pygments_lexer": "ipython3",
   "version": "3.8.3"
  }
 },
 "nbformat": 4,
 "nbformat_minor": 4
}
